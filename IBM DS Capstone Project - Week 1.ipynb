{
 "cells": [
  {
   "cell_type": "markdown",
   "metadata": {
    "collapsed": true
   },
   "source": [
    "## Introduction"
   ]
  },
  {
   "cell_type": "markdown",
   "metadata": {},
   "source": [
    "Belgium is known all over the world for making unbeatable chocolates. It is paradise for the chocolate lovers. The country has a long and illustrious history of chocolate making. With around 2,000 chocolate companies and shops all over Belgium, the country remains one of the reigning producers and exporters of chocolate in the world. Based on available figures, Belgium exports more than 400,000 tons of chocolate with an annual turnover of over 4 billion euros.  \n",
    "Behind every top chocolate brand, stands a team of top chocolatiers. They use their knowledge, experience and craftsmanship to create the most finest and sophisticated pralines, using the best products: high quality Belgian chocolate. They don’t shy away from the latest innovation and technological developments in the chocolate sector. And that makes them award-winning in several international competitions like the Patisserie World Cup."
   ]
  },
  {
   "cell_type": "markdown",
   "metadata": {},
   "source": [
    "## Business Problem"
   ]
  },
  {
   "cell_type": "markdown",
   "metadata": {},
   "source": [
    "A successful Belgian  chocolatier is going to expand his business into the United States.  Los Angeles is decided to be the starting point to open a new Belgian coffee shop combined with chokolate shop. Since  Los Angeles is so big and has lots of different coffee shops and chcolate chops developed by famous brands, my client needs deeper insight from available data in oder to decide where to establish his first Belgian coffee shop in the US. Another problem is that LA has very high lease rents for retail property.  \n",
    "To solve this business problem, we are going to cluster LA neighborhoods in order to recommend venues and the current average rent of lease in order business owner could make a decision to start a coffee shop. For this purpose we will try to find the optimal solution in terms of competitive location, comfortable lease rents, as well as surrounding venues."
   ]
  },
  {
   "cell_type": "markdown",
   "metadata": {},
   "source": [
    "## Discussion"
   ]
  },
  {
   "cell_type": "markdown",
   "metadata": {},
   "source": [
    "Let's discuss the above mentioned problem statements. First of all we know that our client, famous Belgian chocolatier, wants to lease a retaile place for his unnique coffee shop combined with chocolate shop. Also he needs to find out the level of competition - how many coffee shops and restaurants are there in different neighborhoods. If there are more than 2-5 coffee shops and restaurants in a neighborhood then that would be a great risk to open new coffee shops in that neighborhood. Selecting a place where there is less or no coffee shops / restaurants would be of great choice, considering the lease rent of neighborhood too. Places like Downtown, Movie theatre, Parks, Malls & Gas stations would help his business running."
   ]
  },
  {
   "cell_type": "markdown",
   "metadata": {},
   "source": [
    "The target audience is broad, it ranges from any company which is going to open new business entity in LA, tourists and those who are passionate about coffe shops  with wide range of Belgian chocolate."
   ]
  },
  {
   "cell_type": "markdown",
   "metadata": {},
   "source": [
    "## Data Description"
   ]
  },
  {
   "cell_type": "markdown",
   "metadata": {},
   "source": [
    "This project will rely on public data from real estate agencies and Foursquare."
   ]
  },
  {
   "cell_type": "markdown",
   "metadata": {},
   "source": [
    "For this project we just need to analyse the current lease rent range. So I collect the lease rent data from open sources like https://www.rentcafe.com/average-rent-market-trends/us/ca/san-francisco/ and https://www.zillow.com/research/data/ according to neighborhoods, so that it's easy for us to check the lease rent data. Prepared data I have uploaded on my github repository."
   ]
  },
  {
   "cell_type": "code",
   "execution_count": null,
   "metadata": {},
   "outputs": [],
   "source": []
  },
  {
   "cell_type": "code",
   "execution_count": 1,
   "metadata": {},
   "outputs": [
    {
     "name": "stdout",
     "output_type": "stream",
     "text": [
      "Fetching package metadata .............\n",
      "Solving package specifications: .\n",
      "\n",
      "Package plan for installation in environment /opt/conda/envs/DSX-Python35:\n",
      "\n",
      "The following NEW packages will be INSTALLED:\n",
      "\n",
      "    geographiclib: 1.49-py_0   conda-forge\n",
      "    geopy:         1.19.0-py_0 conda-forge\n",
      "\n",
      "geographiclib- 100% |################################| Time: 0:00:00  30.28 MB/s\n",
      "geopy-1.19.0-p 100% |################################| Time: 0:00:00  50.83 MB/s\n",
      "Libraries imported.\n"
     ]
    }
   ],
   "source": [
    "import numpy as np # library for vectorized computation\n",
    "\n",
    "import pandas as pd # library to process data as dataframes\n",
    "pd.set_option('display.max_columns', None)\n",
    "pd.set_option('display.max_rows', None)\n",
    "\n",
    "!conda install -c conda-forge geopy --yes\n",
    "from geopy.geocoders import Nominatim     # convert an address into latitude and longitude values\n",
    "\n",
    "!pip -q install geocoder\n",
    "import geocoder\n",
    "\n",
    "print('Libraries imported.')"
   ]
  },
  {
   "cell_type": "markdown",
   "metadata": {},
   "source": [
    "After importing the necessary libraries, we download the data from my Github repository as follows:"
   ]
  },
  {
   "cell_type": "code",
   "execution_count": 2,
   "metadata": {},
   "outputs": [
    {
     "data": {
      "text/html": [
       "<div>\n",
       "<style scoped>\n",
       "    .dataframe tbody tr th:only-of-type {\n",
       "        vertical-align: middle;\n",
       "    }\n",
       "\n",
       "    .dataframe tbody tr th {\n",
       "        vertical-align: top;\n",
       "    }\n",
       "\n",
       "    .dataframe thead th {\n",
       "        text-align: right;\n",
       "    }\n",
       "</style>\n",
       "<table border=\"1\" class=\"dataframe\">\n",
       "  <thead>\n",
       "    <tr style=\"text-align: right;\">\n",
       "      <th></th>\n",
       "      <th>State</th>\n",
       "      <th>City</th>\n",
       "      <th>Neighborhood</th>\n",
       "      <th>Average Rent (per SqFoot)</th>\n",
       "    </tr>\n",
       "  </thead>\n",
       "  <tbody>\n",
       "    <tr>\n",
       "      <th>0</th>\n",
       "      <td>CA</td>\n",
       "      <td>Los Angeles</td>\n",
       "      <td>Jefferson Park</td>\n",
       "      <td>1.59</td>\n",
       "    </tr>\n",
       "    <tr>\n",
       "      <th>1</th>\n",
       "      <td>CA</td>\n",
       "      <td>Los Angeles</td>\n",
       "      <td>El Sereno</td>\n",
       "      <td>1.77</td>\n",
       "    </tr>\n",
       "    <tr>\n",
       "      <th>2</th>\n",
       "      <td>CA</td>\n",
       "      <td>Los Angeles</td>\n",
       "      <td>Winnetka</td>\n",
       "      <td>1.83</td>\n",
       "    </tr>\n",
       "    <tr>\n",
       "      <th>3</th>\n",
       "      <td>CA</td>\n",
       "      <td>Los Angeles</td>\n",
       "      <td>Glassell Park</td>\n",
       "      <td>1.83</td>\n",
       "    </tr>\n",
       "    <tr>\n",
       "      <th>4</th>\n",
       "      <td>CA</td>\n",
       "      <td>Los Angeles</td>\n",
       "      <td>Cypress Park</td>\n",
       "      <td>1.83</td>\n",
       "    </tr>\n",
       "    <tr>\n",
       "      <th>5</th>\n",
       "      <td>CA</td>\n",
       "      <td>Los Angeles</td>\n",
       "      <td>Vermont Vista</td>\n",
       "      <td>1.85</td>\n",
       "    </tr>\n",
       "    <tr>\n",
       "      <th>6</th>\n",
       "      <td>CA</td>\n",
       "      <td>Los Angeles</td>\n",
       "      <td>Vermont Knolls</td>\n",
       "      <td>1.85</td>\n",
       "    </tr>\n",
       "    <tr>\n",
       "      <th>7</th>\n",
       "      <td>CA</td>\n",
       "      <td>Los Angeles</td>\n",
       "      <td>Panorama City</td>\n",
       "      <td>1.89</td>\n",
       "    </tr>\n",
       "    <tr>\n",
       "      <th>8</th>\n",
       "      <td>CA</td>\n",
       "      <td>Los Angeles</td>\n",
       "      <td>Leimert Park</td>\n",
       "      <td>1.90</td>\n",
       "    </tr>\n",
       "    <tr>\n",
       "      <th>9</th>\n",
       "      <td>CA</td>\n",
       "      <td>Los Angeles</td>\n",
       "      <td>North Hills</td>\n",
       "      <td>1.91</td>\n",
       "    </tr>\n",
       "  </tbody>\n",
       "</table>\n",
       "</div>"
      ],
      "text/plain": [
       "  State         City    Neighborhood  Average Rent (per SqFoot)\n",
       "0    CA  Los Angeles  Jefferson Park                       1.59\n",
       "1    CA  Los Angeles       El Sereno                       1.77\n",
       "2    CA  Los Angeles        Winnetka                       1.83\n",
       "3    CA  Los Angeles   Glassell Park                       1.83\n",
       "4    CA  Los Angeles    Cypress Park                       1.83\n",
       "5    CA  Los Angeles   Vermont Vista                       1.85\n",
       "6    CA  Los Angeles  Vermont Knolls                       1.85\n",
       "7    CA  Los Angeles   Panorama City                       1.89\n",
       "8    CA  Los Angeles    Leimert Park                       1.90\n",
       "9    CA  Los Angeles     North Hills                       1.91"
      ]
     },
     "execution_count": 2,
     "metadata": {},
     "output_type": "execute_result"
    }
   ],
   "source": [
    "git = 'https://raw.githubusercontent.com/tarastsukarev/Coursera_Capstone/master/rent_data.csv'\n",
    "LA_rentdata = pd.read_csv(git)\n",
    "LA_rentdata.head(10)"
   ]
  },
  {
   "cell_type": "markdown",
   "metadata": {},
   "source": [
    "In obtaining the location data of the locations, the Geocoder package is used with the arcgis_geocoder to obtain the latitude and longitude of the needed locations.\n",
    "\n",
    "These will help to create a new dataframe that will be used subsequently for LA neiborhoods."
   ]
  },
  {
   "cell_type": "code",
   "execution_count": 3,
   "metadata": {},
   "outputs": [],
   "source": [
    "# Let's start geocoder\n",
    "\n",
    "def get_latlng(arcgis_geocoder):\n",
    "    \n",
    "    # Initialize the Location (lat. and long.) to \"None\"\n",
    "    lat_lng_coords = None\n",
    "    \n",
    "    # While loop helps to create a continous run until all the location coordinates are geocoded\n",
    "    \n",
    "    while(lat_lng_coords is None):\n",
    "        g = geocoder.arcgis('{}, Los Angeles, United States'.format(arcgis_geocoder))\n",
    "        lat_lng_coords = g.latlng\n",
    "    return lat_lng_coords"
   ]
  },
  {
   "cell_type": "markdown",
   "metadata": {},
   "source": [
    "Then we proceed to store the location data - latitude and longitude as follows. The obtained coordinates are then joined to LA_rentdata to create new data frame."
   ]
  },
  {
   "cell_type": "code",
   "execution_count": 4,
   "metadata": {},
   "outputs": [
    {
     "data": {
      "text/html": [
       "<div>\n",
       "<style scoped>\n",
       "    .dataframe tbody tr th:only-of-type {\n",
       "        vertical-align: middle;\n",
       "    }\n",
       "\n",
       "    .dataframe tbody tr th {\n",
       "        vertical-align: top;\n",
       "    }\n",
       "\n",
       "    .dataframe thead th {\n",
       "        text-align: right;\n",
       "    }\n",
       "</style>\n",
       "<table border=\"1\" class=\"dataframe\">\n",
       "  <thead>\n",
       "    <tr style=\"text-align: right;\">\n",
       "      <th></th>\n",
       "      <th>State</th>\n",
       "      <th>City</th>\n",
       "      <th>Neighborhood</th>\n",
       "      <th>Average Rent (per SqFoot)</th>\n",
       "      <th>Latitude</th>\n",
       "      <th>Longitude</th>\n",
       "    </tr>\n",
       "  </thead>\n",
       "  <tbody>\n",
       "    <tr>\n",
       "      <th>0</th>\n",
       "      <td>CA</td>\n",
       "      <td>Los Angeles</td>\n",
       "      <td>Jefferson Park</td>\n",
       "      <td>1.59</td>\n",
       "      <td>34.032640</td>\n",
       "      <td>-118.31802</td>\n",
       "    </tr>\n",
       "    <tr>\n",
       "      <th>1</th>\n",
       "      <td>CA</td>\n",
       "      <td>Los Angeles</td>\n",
       "      <td>El Sereno</td>\n",
       "      <td>1.77</td>\n",
       "      <td>34.076850</td>\n",
       "      <td>-118.17934</td>\n",
       "    </tr>\n",
       "    <tr>\n",
       "      <th>2</th>\n",
       "      <td>CA</td>\n",
       "      <td>Los Angeles</td>\n",
       "      <td>Winnetka</td>\n",
       "      <td>1.83</td>\n",
       "      <td>34.203290</td>\n",
       "      <td>-118.57098</td>\n",
       "    </tr>\n",
       "    <tr>\n",
       "      <th>3</th>\n",
       "      <td>CA</td>\n",
       "      <td>Los Angeles</td>\n",
       "      <td>Glassell Park</td>\n",
       "      <td>1.83</td>\n",
       "      <td>34.118960</td>\n",
       "      <td>-118.23099</td>\n",
       "    </tr>\n",
       "    <tr>\n",
       "      <th>4</th>\n",
       "      <td>CA</td>\n",
       "      <td>Los Angeles</td>\n",
       "      <td>Cypress Park</td>\n",
       "      <td>1.83</td>\n",
       "      <td>34.094480</td>\n",
       "      <td>-118.22678</td>\n",
       "    </tr>\n",
       "    <tr>\n",
       "      <th>5</th>\n",
       "      <td>CA</td>\n",
       "      <td>Los Angeles</td>\n",
       "      <td>Vermont Vista</td>\n",
       "      <td>1.85</td>\n",
       "      <td>34.092407</td>\n",
       "      <td>-118.29101</td>\n",
       "    </tr>\n",
       "    <tr>\n",
       "      <th>6</th>\n",
       "      <td>CA</td>\n",
       "      <td>Los Angeles</td>\n",
       "      <td>Vermont Knolls</td>\n",
       "      <td>1.85</td>\n",
       "      <td>34.092407</td>\n",
       "      <td>-118.29101</td>\n",
       "    </tr>\n",
       "    <tr>\n",
       "      <th>7</th>\n",
       "      <td>CA</td>\n",
       "      <td>Los Angeles</td>\n",
       "      <td>Panorama City</td>\n",
       "      <td>1.89</td>\n",
       "      <td>34.223010</td>\n",
       "      <td>-118.44875</td>\n",
       "    </tr>\n",
       "    <tr>\n",
       "      <th>8</th>\n",
       "      <td>CA</td>\n",
       "      <td>Los Angeles</td>\n",
       "      <td>Leimert Park</td>\n",
       "      <td>1.90</td>\n",
       "      <td>34.008380</td>\n",
       "      <td>-118.33045</td>\n",
       "    </tr>\n",
       "    <tr>\n",
       "      <th>9</th>\n",
       "      <td>CA</td>\n",
       "      <td>Los Angeles</td>\n",
       "      <td>North Hills</td>\n",
       "      <td>1.91</td>\n",
       "      <td>34.235630</td>\n",
       "      <td>-118.48470</td>\n",
       "    </tr>\n",
       "  </tbody>\n",
       "</table>\n",
       "</div>"
      ],
      "text/plain": [
       "  State         City    Neighborhood  Average Rent (per SqFoot)   Latitude  \\\n",
       "0    CA  Los Angeles  Jefferson Park                       1.59  34.032640   \n",
       "1    CA  Los Angeles       El Sereno                       1.77  34.076850   \n",
       "2    CA  Los Angeles        Winnetka                       1.83  34.203290   \n",
       "3    CA  Los Angeles   Glassell Park                       1.83  34.118960   \n",
       "4    CA  Los Angeles    Cypress Park                       1.83  34.094480   \n",
       "5    CA  Los Angeles   Vermont Vista                       1.85  34.092407   \n",
       "6    CA  Los Angeles  Vermont Knolls                       1.85  34.092407   \n",
       "7    CA  Los Angeles   Panorama City                       1.89  34.223010   \n",
       "8    CA  Los Angeles    Leimert Park                       1.90  34.008380   \n",
       "9    CA  Los Angeles     North Hills                       1.91  34.235630   \n",
       "\n",
       "   Longitude  \n",
       "0 -118.31802  \n",
       "1 -118.17934  \n",
       "2 -118.57098  \n",
       "3 -118.23099  \n",
       "4 -118.22678  \n",
       "5 -118.29101  \n",
       "6 -118.29101  \n",
       "7 -118.44875  \n",
       "8 -118.33045  \n",
       "9 -118.48470  "
      ]
     },
     "execution_count": 4,
     "metadata": {},
     "output_type": "execute_result"
    }
   ],
   "source": [
    "coord = LA_rentdata['Neighborhood']    \n",
    "coordinates = [get_latlng(coord) for coord in coord.tolist()]\n",
    "\n",
    "# This will store LA dataframe with coordinates\n",
    "df_LA = LA_rentdata\n",
    "df_LA_coordinates = pd.DataFrame(coordinates, columns = ['Latitude', 'Longitude'])\n",
    "df_LA['Latitude'] = df_LA_coordinates['Latitude']\n",
    "df_LA['Longitude'] = df_LA_coordinates['Longitude']\n",
    "df_LA.head(10)"
   ]
  },
  {
   "cell_type": "code",
   "execution_count": 5,
   "metadata": {},
   "outputs": [
    {
     "data": {
      "text/html": [
       "<div>\n",
       "<style scoped>\n",
       "    .dataframe tbody tr th:only-of-type {\n",
       "        vertical-align: middle;\n",
       "    }\n",
       "\n",
       "    .dataframe tbody tr th {\n",
       "        vertical-align: top;\n",
       "    }\n",
       "\n",
       "    .dataframe thead th {\n",
       "        text-align: right;\n",
       "    }\n",
       "</style>\n",
       "<table border=\"1\" class=\"dataframe\">\n",
       "  <thead>\n",
       "    <tr style=\"text-align: right;\">\n",
       "      <th></th>\n",
       "      <th>Neighborhood</th>\n",
       "      <th>Average Rent (per SqFoot)</th>\n",
       "      <th>Latitude</th>\n",
       "      <th>Longitude</th>\n",
       "    </tr>\n",
       "  </thead>\n",
       "  <tbody>\n",
       "    <tr>\n",
       "      <th>0</th>\n",
       "      <td>Jefferson Park</td>\n",
       "      <td>1.59</td>\n",
       "      <td>34.032640</td>\n",
       "      <td>-118.31802</td>\n",
       "    </tr>\n",
       "    <tr>\n",
       "      <th>1</th>\n",
       "      <td>El Sereno</td>\n",
       "      <td>1.77</td>\n",
       "      <td>34.076850</td>\n",
       "      <td>-118.17934</td>\n",
       "    </tr>\n",
       "    <tr>\n",
       "      <th>2</th>\n",
       "      <td>Winnetka</td>\n",
       "      <td>1.83</td>\n",
       "      <td>34.203290</td>\n",
       "      <td>-118.57098</td>\n",
       "    </tr>\n",
       "    <tr>\n",
       "      <th>3</th>\n",
       "      <td>Glassell Park</td>\n",
       "      <td>1.83</td>\n",
       "      <td>34.118960</td>\n",
       "      <td>-118.23099</td>\n",
       "    </tr>\n",
       "    <tr>\n",
       "      <th>4</th>\n",
       "      <td>Cypress Park</td>\n",
       "      <td>1.83</td>\n",
       "      <td>34.094480</td>\n",
       "      <td>-118.22678</td>\n",
       "    </tr>\n",
       "    <tr>\n",
       "      <th>5</th>\n",
       "      <td>Vermont Vista</td>\n",
       "      <td>1.85</td>\n",
       "      <td>34.092407</td>\n",
       "      <td>-118.29101</td>\n",
       "    </tr>\n",
       "    <tr>\n",
       "      <th>6</th>\n",
       "      <td>Vermont Knolls</td>\n",
       "      <td>1.85</td>\n",
       "      <td>34.092407</td>\n",
       "      <td>-118.29101</td>\n",
       "    </tr>\n",
       "    <tr>\n",
       "      <th>7</th>\n",
       "      <td>Panorama City</td>\n",
       "      <td>1.89</td>\n",
       "      <td>34.223010</td>\n",
       "      <td>-118.44875</td>\n",
       "    </tr>\n",
       "    <tr>\n",
       "      <th>8</th>\n",
       "      <td>Leimert Park</td>\n",
       "      <td>1.90</td>\n",
       "      <td>34.008380</td>\n",
       "      <td>-118.33045</td>\n",
       "    </tr>\n",
       "    <tr>\n",
       "      <th>9</th>\n",
       "      <td>North Hills</td>\n",
       "      <td>1.91</td>\n",
       "      <td>34.235630</td>\n",
       "      <td>-118.48470</td>\n",
       "    </tr>\n",
       "  </tbody>\n",
       "</table>\n",
       "</div>"
      ],
      "text/plain": [
       "     Neighborhood  Average Rent (per SqFoot)   Latitude  Longitude\n",
       "0  Jefferson Park                       1.59  34.032640 -118.31802\n",
       "1       El Sereno                       1.77  34.076850 -118.17934\n",
       "2        Winnetka                       1.83  34.203290 -118.57098\n",
       "3   Glassell Park                       1.83  34.118960 -118.23099\n",
       "4    Cypress Park                       1.83  34.094480 -118.22678\n",
       "5   Vermont Vista                       1.85  34.092407 -118.29101\n",
       "6  Vermont Knolls                       1.85  34.092407 -118.29101\n",
       "7   Panorama City                       1.89  34.223010 -118.44875\n",
       "8    Leimert Park                       1.90  34.008380 -118.33045\n",
       "9     North Hills                       1.91  34.235630 -118.48470"
      ]
     },
     "execution_count": 5,
     "metadata": {},
     "output_type": "execute_result"
    }
   ],
   "source": [
    "#Let's now take only Neighorhood, Average Rent (per SqFoot) and coordinates\n",
    "df_LA = df_LA[['Neighborhood','Average Rent (per SqFoot)', 'Latitude', 'Longitude']]\n",
    "df_LA.head(10)"
   ]
  },
  {
   "cell_type": "markdown",
   "metadata": {},
   "source": [
    "Los Angeles is really large city (has more than 100 neighborhoods) and due to the limitations in the number of calls for the Foursquare API, we're going to analyze only 50 neighborhoods excluding known in adance the most expensive locations like  Santa Monica, North of Montana, Pacific Palisades, etc."
   ]
  },
  {
   "cell_type": "markdown",
   "metadata": {},
   "source": [
    "The Foursquare API will be used to obtain the geographical location data for Los Angeles. These will be used to explore the venues in the neighbourhoods of LA. The venues will provide the categories needed for the analysis and eventually, these will be used to determine the viability of selected locations for the Belgian coffee shop."
   ]
  },
  {
   "cell_type": "markdown",
   "metadata": {},
   "source": [
    "The venues will provide the categories needed for the analysis and eventually, these will be used to determine the viability of selected locations for the Belgian coffee shop."
   ]
  },
  {
   "cell_type": "markdown",
   "metadata": {},
   "source": [
    "### How data will be used to solve the problem"
   ]
  },
  {
   "cell_type": "markdown",
   "metadata": {},
   "source": [
    "The data from the lease rent dataset and location, as well as  Foursquare will be explored by considering the venues within the neighborhoods of LA. These neighborhoods' coffee shops / restaurants would be checked in terms of the types of coffee shops / restaurants within a certain mile radius and the size of lease rent. Due to Foursquare restrictions, the number of venues will be limited to 100 venues. The proximity to Downtown, Movie theatre, Parks, Malls & Gas stations and other amenities would be considered."
   ]
  }
 ],
 "metadata": {
  "kernelspec": {
   "display_name": "Python 3.5",
   "language": "python",
   "name": "python3"
  },
  "language_info": {
   "codemirror_mode": {
    "name": "ipython",
    "version": 3
   },
   "file_extension": ".py",
   "mimetype": "text/x-python",
   "name": "python",
   "nbconvert_exporter": "python",
   "pygments_lexer": "ipython3",
   "version": "3.5.5"
  }
 },
 "nbformat": 4,
 "nbformat_minor": 1
}
